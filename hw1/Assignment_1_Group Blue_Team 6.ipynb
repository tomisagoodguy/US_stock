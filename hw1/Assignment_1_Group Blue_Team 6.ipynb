{
  "cells": [
    {
      "cell_type": "markdown",
      "metadata": {
        "id": "Aby9eLh7CvJx",
        "tags": []
      },
      "source": [
        "# Assignment 1: Solution"
      ]
    },
    {
      "cell_type": "markdown",
      "metadata": {
        "id": "2ylTXk7JDGTW",
        "tags": []
      },
      "source": [
        "### We first import the necessary packages"
      ]
    },
    {
      "cell_type": "code",
      "execution_count": 2,
      "metadata": {
        "id": "Ui6Rz3jEECn8",
        "tags": []
      },
      "outputs": [],
      "source": [
        "\n",
        "import pandas            as pd\n",
        "import numpy             as np\n",
        "import scipy             as scp\n",
        "import matplotlib.pyplot as plt\n",
        "import os as os\n",
        "from datetime import date as dd\n",
        "from scipy import stats\n",
        "from scipy import optimize\n",
        "import statsmodels.api as sm\n",
        "# %matplotlib inline"
      ]
    },
    {
      "cell_type": "markdown",
      "metadata": {
        "id": "oFS1oOYPGF0Z",
        "tags": []
      },
      "source": [
        "### We now get the data\n"
      ]
    },
    {
      "cell_type": "code",
      "execution_count": 4,
      "metadata": {
        "colab": {
          "base_uri": "https://localhost:8080/",
          "height": 35
        },
        "id": "sXvEPraUJ3fp",
        "outputId": "5361da69-2de9-48d3-d9d2-8dade95260b6"
      },
      "outputs": [
        {
          "data": {
            "text/plain": [
              "'c:\\\\Users\\\\tom89\\\\Documents\\\\GitHub\\\\US_stock\\\\hw1'"
            ]
          },
          "execution_count": 4,
          "metadata": {},
          "output_type": "execute_result"
        }
      ],
      "source": [
        "os.getcwd()\n",
        "df=pd.read_excel('Assignment 1_MF402_2024.xlsx', sheet_name='Data')\n",
        "os.getcwd()"
      ]
    },
    {
      "cell_type": "markdown",
      "metadata": {
        "id": "3LUNiORmKF8i"
      },
      "source": [
        "## Part One"
      ]
    },
    {
      "cell_type": "code",
      "execution_count": 5,
      "metadata": {
        "colab": {
          "base_uri": "https://localhost:8080/",
          "height": 255
        },
        "id": "5H7A6ojXJ3fr",
        "outputId": "8a3a7bd1-67ca-482a-a250-67b36dd05e3c"
      },
      "outputs": [
        {
          "data": {
            "text/html": [
              "<div>\n",
              "<style scoped>\n",
              "    .dataframe tbody tr th:only-of-type {\n",
              "        vertical-align: middle;\n",
              "    }\n",
              "\n",
              "    .dataframe tbody tr th {\n",
              "        vertical-align: top;\n",
              "    }\n",
              "\n",
              "    .dataframe thead th {\n",
              "        text-align: right;\n",
              "    }\n",
              "</style>\n",
              "<table border=\"1\" class=\"dataframe\">\n",
              "  <thead>\n",
              "    <tr style=\"text-align: right;\">\n",
              "      <th></th>\n",
              "      <th>Date</th>\n",
              "      <th>vwret</th>\n",
              "      <th>mkt_index</th>\n",
              "      <th>dp</th>\n",
              "      <th>10y</th>\n",
              "      <th>10y_index</th>\n",
              "      <th>3m</th>\n",
              "      <th>3m_index</th>\n",
              "      <th>cpi</th>\n",
              "      <th>cpi_index</th>\n",
              "      <th>...</th>\n",
              "      <th>manuf</th>\n",
              "      <th>energy</th>\n",
              "      <th>chems</th>\n",
              "      <th>buseq</th>\n",
              "      <th>telcm</th>\n",
              "      <th>utils</th>\n",
              "      <th>shops</th>\n",
              "      <th>health</th>\n",
              "      <th>money</th>\n",
              "      <th>other</th>\n",
              "    </tr>\n",
              "  </thead>\n",
              "  <tbody>\n",
              "    <tr>\n",
              "      <th>0</th>\n",
              "      <td>01/31/1970</td>\n",
              "      <td>-0.075398</td>\n",
              "      <td>100.000000</td>\n",
              "      <td>0.037207</td>\n",
              "      <td>0.028827</td>\n",
              "      <td>100.000000</td>\n",
              "      <td>0.007158</td>\n",
              "      <td>100.000000</td>\n",
              "      <td>0.002653</td>\n",
              "      <td>100.000000</td>\n",
              "      <td>...</td>\n",
              "      <td>-7.82</td>\n",
              "      <td>-11.45</td>\n",
              "      <td>-5.44</td>\n",
              "      <td>-9.17</td>\n",
              "      <td>-2.57</td>\n",
              "      <td>-4.23</td>\n",
              "      <td>-5.88</td>\n",
              "      <td>-7.12</td>\n",
              "      <td>-9.18</td>\n",
              "      <td>-8.53</td>\n",
              "    </tr>\n",
              "    <tr>\n",
              "      <th>1</th>\n",
              "      <td>02/28/1970</td>\n",
              "      <td>0.059521</td>\n",
              "      <td>105.269348</td>\n",
              "      <td>0.035382</td>\n",
              "      <td>0.067886</td>\n",
              "      <td>106.788595</td>\n",
              "      <td>0.007986</td>\n",
              "      <td>100.798584</td>\n",
              "      <td>0.005291</td>\n",
              "      <td>100.562430</td>\n",
              "      <td>...</td>\n",
              "      <td>5.68</td>\n",
              "      <td>5.38</td>\n",
              "      <td>3.36</td>\n",
              "      <td>2.94</td>\n",
              "      <td>7.96</td>\n",
              "      <td>8.36</td>\n",
              "      <td>5.23</td>\n",
              "      <td>5.60</td>\n",
              "      <td>11.44</td>\n",
              "      <td>7.86</td>\n",
              "    </tr>\n",
              "    <tr>\n",
              "      <th>2</th>\n",
              "      <td>03/31/1970</td>\n",
              "      <td>0.002806</td>\n",
              "      <td>105.422254</td>\n",
              "      <td>0.035368</td>\n",
              "      <td>-0.000269</td>\n",
              "      <td>106.759882</td>\n",
              "      <td>0.007078</td>\n",
              "      <td>101.512027</td>\n",
              "      <td>0.005263</td>\n",
              "      <td>101.124859</td>\n",
              "      <td>...</td>\n",
              "      <td>-0.27</td>\n",
              "      <td>-0.45</td>\n",
              "      <td>-0.38</td>\n",
              "      <td>-2.59</td>\n",
              "      <td>2.29</td>\n",
              "      <td>2.91</td>\n",
              "      <td>-1.69</td>\n",
              "      <td>-5.08</td>\n",
              "      <td>-0.77</td>\n",
              "      <td>-2.91</td>\n",
              "    </tr>\n",
              "    <tr>\n",
              "      <th>3</th>\n",
              "      <td>04/30/1970</td>\n",
              "      <td>-0.088831</td>\n",
              "      <td>95.883322</td>\n",
              "      <td>0.038927</td>\n",
              "      <td>-0.050871</td>\n",
              "      <td>101.328913</td>\n",
              "      <td>0.005494</td>\n",
              "      <td>102.069753</td>\n",
              "      <td>0.007853</td>\n",
              "      <td>101.912261</td>\n",
              "      <td>...</td>\n",
              "      <td>-9.78</td>\n",
              "      <td>-9.17</td>\n",
              "      <td>-6.24</td>\n",
              "      <td>-14.45</td>\n",
              "      <td>-8.79</td>\n",
              "      <td>-8.05</td>\n",
              "      <td>-11.08</td>\n",
              "      <td>-10.11</td>\n",
              "      <td>-12.78</td>\n",
              "      <td>-14.51</td>\n",
              "    </tr>\n",
              "    <tr>\n",
              "      <th>4</th>\n",
              "      <td>05/31/1970</td>\n",
              "      <td>-0.054689</td>\n",
              "      <td>90.037638</td>\n",
              "      <td>0.041498</td>\n",
              "      <td>-0.006522</td>\n",
              "      <td>100.668015</td>\n",
              "      <td>0.006237</td>\n",
              "      <td>102.706368</td>\n",
              "      <td>0.002597</td>\n",
              "      <td>102.137233</td>\n",
              "      <td>...</td>\n",
              "      <td>-9.01</td>\n",
              "      <td>2.61</td>\n",
              "      <td>-2.97</td>\n",
              "      <td>-9.50</td>\n",
              "      <td>-3.75</td>\n",
              "      <td>-5.36</td>\n",
              "      <td>-9.45</td>\n",
              "      <td>-7.78</td>\n",
              "      <td>-8.37</td>\n",
              "      <td>-8.14</td>\n",
              "    </tr>\n",
              "  </tbody>\n",
              "</table>\n",
              "<p>5 rows × 28 columns</p>\n",
              "</div>"
            ],
            "text/plain": [
              "         Date     vwret   mkt_index        dp       10y   10y_index        3m  \\\n",
              "0  01/31/1970 -0.075398  100.000000  0.037207  0.028827  100.000000  0.007158   \n",
              "1  02/28/1970  0.059521  105.269348  0.035382  0.067886  106.788595  0.007986   \n",
              "2  03/31/1970  0.002806  105.422254  0.035368 -0.000269  106.759882  0.007078   \n",
              "3  04/30/1970 -0.088831   95.883322  0.038927 -0.050871  101.328913  0.005494   \n",
              "4  05/31/1970 -0.054689   90.037638  0.041498 -0.006522  100.668015  0.006237   \n",
              "\n",
              "     3m_index       cpi   cpi_index  ...  manuf  energy  chems  buseq  telcm  \\\n",
              "0  100.000000  0.002653  100.000000  ...  -7.82  -11.45  -5.44  -9.17  -2.57   \n",
              "1  100.798584  0.005291  100.562430  ...   5.68    5.38   3.36   2.94   7.96   \n",
              "2  101.512027  0.005263  101.124859  ...  -0.27   -0.45  -0.38  -2.59   2.29   \n",
              "3  102.069753  0.007853  101.912261  ...  -9.78   -9.17  -6.24 -14.45  -8.79   \n",
              "4  102.706368  0.002597  102.137233  ...  -9.01    2.61  -2.97  -9.50  -3.75   \n",
              "\n",
              "   utils  shops  health  money  other  \n",
              "0  -4.23  -5.88   -7.12  -9.18  -8.53  \n",
              "1   8.36   5.23    5.60  11.44   7.86  \n",
              "2   2.91  -1.69   -5.08  -0.77  -2.91  \n",
              "3  -8.05 -11.08  -10.11 -12.78 -14.51  \n",
              "4  -5.36  -9.45   -7.78  -8.37  -8.14  \n",
              "\n",
              "[5 rows x 28 columns]"
            ]
          },
          "execution_count": 5,
          "metadata": {},
          "output_type": "execute_result"
        }
      ],
      "source": [
        "df.head()"
      ]
    },
    {
      "cell_type": "code",
      "execution_count": 6,
      "metadata": {
        "id": "SWsz_zhthHma"
      },
      "outputs": [],
      "source": [
        "date = df.iloc[:,0]\n",
        "returns = df.iloc[:,1]         # Nominal returns\n",
        "inflation = df.iloc[:,8]       # Inflation\n",
        "real_ret = returns - inflation # Real returns\n",
        "\n",
        "# Fill in rfrate and rf10 from the dataframe\n",
        "rfrate = df.iloc[:,6]\n",
        "rf10 = df.iloc[:,4]      # Risk free rate\n"
      ]
    },
    {
      "cell_type": "markdown",
      "metadata": {
        "id": "D5Xih9PsJ3fs"
      },
      "source": [
        "### Question 1.1"
      ]
    },
    {
      "cell_type": "code",
      "execution_count": 7,
      "metadata": {
        "colab": {
          "base_uri": "https://localhost:8080/",
          "height": 447
        },
        "id": "L_o1bsP1J3ft",
        "outputId": "de8f19fc-49b0-48f4-f8af-a87dcc772b98"
      },
      "outputs": [
        {
          "data": {
            "text/plain": [
              "[<matplotlib.lines.Line2D at 0x1dddb533fb0>]"
            ]
          },
          "execution_count": 7,
          "metadata": {},
          "output_type": "execute_result"
        },
        {
          "data": {
            "image/png": "[encoded data removed]",
            "text/plain": [
              "<Figure size 640x480 with 1 Axes>"
            ]
          },
          "metadata": {},
          "output_type": "display_data"
        }
      ],
      "source": [
        "erp = returns - rfrate         # Excess Return\n",
        "plt.plot(erp)"
      ]
    },
    {
      "cell_type": "markdown",
      "metadata": {
        "id": "lQzLwAM_J3ft"
      },
      "source": [
        "We now need to run a regression of excess return on a constant. There are multiple ways of doing this. We can define a user created function or use statsmodels package. Here we will use statsmodels package."
      ]
    },
    {
      "cell_type": "code",
      "execution_count": 8,
      "metadata": {
        "colab": {
          "base_uri": "https://localhost:8080/",
          "height": 423
        },
        "id": "v0gNE5HnJ3fu",
        "outputId": "a3487f79-b4a9-4588-f672-cfa6146b8721"
      },
      "outputs": [
        {
          "data": {
            "text/html": [
              "<table class=\"simpletable\">\n",
              "<caption>OLS Regression Results</caption>\n",
              "<tr>\n",
              "  <th>Dep. Variable:</th>            <td>y</td>        <th>  R-squared:         </th> <td>   0.000</td>\n",
              "</tr>\n",
              "<tr>\n",
              "  <th>Model:</th>                   <td>OLS</td>       <th>  Adj. R-squared:    </th> <td>   0.000</td>\n",
              "</tr>\n",
              "<tr>\n",
              "  <th>Method:</th>             <td>Least Squares</td>  <th>  F-statistic:       </th> <td>     nan</td>\n",
              "</tr>\n",
              "<tr>\n",
              "  <th>Date:</th>             <td>Mon, 07 Oct 2024</td> <th>  Prob (F-statistic):</th>  <td>   nan</td> \n",
              "</tr>\n",
              "<tr>\n",
              "  <th>Time:</th>                 <td>22:16:38</td>     <th>  Log-Likelihood:    </th> <td> -514.31</td>\n",
              "</tr>\n",
              "<tr>\n",
              "  <th>No. Observations:</th>      <td>   648</td>      <th>  AIC:               </th> <td>   1031.</td>\n",
              "</tr>\n",
              "<tr>\n",
              "  <th>Df Residuals:</th>          <td>   647</td>      <th>  BIC:               </th> <td>   1035.</td>\n",
              "</tr>\n",
              "<tr>\n",
              "  <th>Df Model:</th>              <td>     0</td>      <th>                     </th>     <td> </td>   \n",
              "</tr>\n",
              "<tr>\n",
              "  <th>Covariance Type:</th>      <td>nonrobust</td>    <th>                     </th>     <td> </td>   \n",
              "</tr>\n",
              "</table>\n",
              "<table class=\"simpletable\">\n",
              "<tr>\n",
              "    <td></td>       <th>coef</th>     <th>std err</th>      <th>t</th>      <th>P>|t|</th>  <th>[0.025</th>    <th>0.975]</th>  \n",
              "</tr>\n",
              "<tr>\n",
              "  <th>const</th> <td>    0.0673</td> <td>    0.021</td> <td>    3.200</td> <td> 0.001</td> <td>    0.026</td> <td>    0.109</td>\n",
              "</tr>\n",
              "</table>\n",
              "<table class=\"simpletable\">\n",
              "<tr>\n",
              "  <th>Omnibus:</th>       <td>46.062</td> <th>  Durbin-Watson:     </th> <td>   1.975</td>\n",
              "</tr>\n",
              "<tr>\n",
              "  <th>Prob(Omnibus):</th> <td> 0.000</td> <th>  Jarque-Bera (JB):  </th> <td>  91.502</td>\n",
              "</tr>\n",
              "<tr>\n",
              "  <th>Skew:</th>          <td>-0.443</td> <th>  Prob(JB):          </th> <td>1.35e-20</td>\n",
              "</tr>\n",
              "<tr>\n",
              "  <th>Kurtosis:</th>      <td> 4.613</td> <th>  Cond. No.          </th> <td>    1.00</td>\n",
              "</tr>\n",
              "</table><br/><br/>Notes:<br/>[1] Standard Errors assume that the covariance matrix of the errors is correctly specified."
            ],
            "text/latex": [
              "\\begin{center}\n",
              "\\begin{tabular}{lclc}\n",
              "\\toprule\n",
              "\\textbf{Dep. Variable:}    &        y         & \\textbf{  R-squared:         } &     0.000   \\\\\n",
              "\\textbf{Model:}            &       OLS        & \\textbf{  Adj. R-squared:    } &     0.000   \\\\\n",
              "\\textbf{Method:}           &  Least Squares   & \\textbf{  F-statistic:       } &       nan   \\\\\n",
              "\\textbf{Date:}             & Mon, 07 Oct 2024 & \\textbf{  Prob (F-statistic):} &      nan    \\\\\n",
              "\\textbf{Time:}             &     22:16:38     & \\textbf{  Log-Likelihood:    } &   -514.31   \\\\\n",
              "\\textbf{No. Observations:} &         648      & \\textbf{  AIC:               } &     1031.   \\\\\n",
              "\\textbf{Df Residuals:}     &         647      & \\textbf{  BIC:               } &     1035.   \\\\\n",
              "\\textbf{Df Model:}         &           0      & \\textbf{                     } &             \\\\\n",
              "\\textbf{Covariance Type:}  &    nonrobust     & \\textbf{                     } &             \\\\\n",
              "\\bottomrule\n",
              "\\end{tabular}\n",
              "\\begin{tabular}{lcccccc}\n",
              "               & \\textbf{coef} & \\textbf{std err} & \\textbf{t} & \\textbf{P$> |$t$|$} & \\textbf{[0.025} & \\textbf{0.975]}  \\\\\n",
              "\\midrule\n",
              "\\textbf{const} &       0.0673  &        0.021     &     3.200  &         0.001        &        0.026    &        0.109     \\\\\n",
              "\\bottomrule\n",
              "\\end{tabular}\n",
              "\\begin{tabular}{lclc}\n",
              "\\textbf{Omnibus:}       & 46.062 & \\textbf{  Durbin-Watson:     } &    1.975  \\\\\n",
              "\\textbf{Prob(Omnibus):} &  0.000 & \\textbf{  Jarque-Bera (JB):  } &   91.502  \\\\\n",
              "\\textbf{Skew:}          & -0.443 & \\textbf{  Prob(JB):          } & 1.35e-20  \\\\\n",
              "\\textbf{Kurtosis:}      &  4.613 & \\textbf{  Cond. No.          } &     1.00  \\\\\n",
              "\\bottomrule\n",
              "\\end{tabular}\n",
              "%\\caption{OLS Regression Results}\n",
              "\\end{center}\n",
              "\n",
              "Notes: \\newline\n",
              " [1] Standard Errors assume that the covariance matrix of the errors is correctly specified."
            ],
            "text/plain": [
              "<class 'statsmodels.iolib.summary.Summary'>\n",
              "\"\"\"\n",
              "                            OLS Regression Results                            \n",
              "==============================================================================\n",
              "Dep. Variable:                      y   R-squared:                       0.000\n",
              "Model:                            OLS   Adj. R-squared:                  0.000\n",
              "Method:                 Least Squares   F-statistic:                       nan\n",
              "Date:                Mon, 07 Oct 2024   Prob (F-statistic):                nan\n",
              "Time:                        22:16:38   Log-Likelihood:                -514.31\n",
              "No. Observations:                 648   AIC:                             1031.\n",
              "Df Residuals:                     647   BIC:                             1035.\n",
              "Df Model:                           0                                         \n",
              "Covariance Type:            nonrobust                                         \n",
              "==============================================================================\n",
              "                 coef    std err          t      P>|t|      [0.025      0.975]\n",
              "------------------------------------------------------------------------------\n",
              "const          0.0673      0.021      3.200      0.001       0.026       0.109\n",
              "==============================================================================\n",
              "Omnibus:                       46.062   Durbin-Watson:                   1.975\n",
              "Prob(Omnibus):                  0.000   Jarque-Bera (JB):               91.502\n",
              "Skew:                          -0.443   Prob(JB):                     1.35e-20\n",
              "Kurtosis:                       4.613   Cond. No.                         1.00\n",
              "==============================================================================\n",
              "\n",
              "Notes:\n",
              "[1] Standard Errors assume that the covariance matrix of the errors is correctly specified.\n",
              "\"\"\""
            ]
          },
          "execution_count": 8,
          "metadata": {},
          "output_type": "execute_result"
        }
      ],
      "source": [
        "dim = erp.shape[0]\n",
        "cons = np.ones(dim)                            # Create a vector of ones.\n",
        "model = sm.OLS(12*erp,cons).fit()\n",
        "yhat = model.predict()\n",
        "model.summary()"
      ]
    },
    {
      "cell_type": "code",
      "execution_count": 9,
      "metadata": {
        "colab": {
          "base_uri": "https://localhost:8080/"
        },
        "id": "iMuAjgxcQ3Iw",
        "outputId": "68e6023d-69f5-457f-e113-44acc22de875"
      },
      "outputs": [
        {
          "name": "stdout",
          "output_type": "stream",
          "text": [
            "0.06733155555555558\n"
          ]
        }
      ],
      "source": [
        "print(yhat.mean())"
      ]
    },
    {
      "cell_type": "markdown",
      "metadata": {
        "id": "ZifBAV12J3fu"
      },
      "source": [
        "We need to look at the standard errors of the constant. Do they look small or large to you?"
      ]
    },
    {
      "cell_type": "markdown",
      "metadata": {
        "id": "IvdoK5XjJ3fu"
      },
      "source": [
        "### Question 1.2"
      ]
    },
    {
      "cell_type": "markdown",
      "metadata": {
        "id": "cQAyLiKxJ3fv"
      },
      "source": [
        "We are now interested in the moving average of the equity risk premium."
      ]
    },
    {
      "cell_type": "code",
      "execution_count": 10,
      "metadata": {
        "id": "aUoCgDlIJ3fv"
      },
      "outputs": [],
      "source": [
        "ma_erp=erp.rolling(window=120).mean()"
      ]
    },
    {
      "cell_type": "code",
      "execution_count": 11,
      "metadata": {
        "colab": {
          "base_uri": "https://localhost:8080/",
          "height": 447
        },
        "id": "ATTDt9rIJ3fv",
        "outputId": "dfb4cad0-4b75-41e5-f278-716b6c9a8227"
      },
      "outputs": [
        {
          "data": {
            "text/plain": [
              "[<matplotlib.lines.Line2D at 0x1ddddf99010>]"
            ]
          },
          "execution_count": 11,
          "metadata": {},
          "output_type": "execute_result"
        },
        {
          "data": {
            "image/png": "[encoded data removed]",
            "text/plain": [
              "<Figure size 640x480 with 1 Axes>"
            ]
          },
          "metadata": {},
          "output_type": "display_data"
        }
      ],
      "source": [
        "plt.plot(ma_erp)"
      ]
    },
    {
      "cell_type": "markdown",
      "metadata": {
        "id": "thV88ylFJ3fv"
      },
      "source": [
        "From the graph above it is clear that the historical estimate of the equity risk premium is stable/not stable."
      ]
    },
    {
      "cell_type": "markdown",
      "metadata": {
        "id": "Cb4xzv6UJ3fw"
      },
      "source": [
        "### Question 1.3"
      ]
    },
    {
      "cell_type": "markdown",
      "metadata": {
        "id": "B1ckpL_8J3fw"
      },
      "source": [
        "We get the long run US GDP growth from the Survey of Professional Forecasters:\n",
        "\n",
        "https://www.philadelphiafed.org/surveys-and-data/real-time-data-research/spf-q3-2021\n",
        "\n",
        "2025 GDP Growth rate is xxx"
      ]
    },
    {
      "cell_type": "code",
      "execution_count": 12,
      "metadata": {
        "id": "QO7GqhgDJ3fw"
      },
      "outputs": [],
      "source": [
        "us_gdp_growth = 2.0/100        # Fill from above"
      ]
    },
    {
      "cell_type": "markdown",
      "metadata": {
        "id": "JHKg6p8LJ3fw"
      },
      "source": [
        "From FRED we get the 10 Year TIPS https://fred.stlouisfed.org/series/DFII10#0\n",
        "\n",
        "\n",
        "For 2021 year end we have: xxx\n"
      ]
    },
    {
      "cell_type": "code",
      "execution_count": 13,
      "metadata": {
        "id": "i_vjh6trJ3fw"
      },
      "outputs": [],
      "source": [
        "tips_yield = 1.72/100 # Fill from above"
      ]
    },
    {
      "cell_type": "code",
      "execution_count": 14,
      "metadata": {
        "id": "Hzq-bLhRJ3fx"
      },
      "outputs": [],
      "source": [
        "last_dpratio = df.iloc[dim-1,3]"
      ]
    },
    {
      "cell_type": "markdown",
      "metadata": {
        "id": "YdZ367etJ3fx"
      },
      "source": [
        "According to the Grodon Growth model the equity risk premium is given by:"
      ]
    },
    {
      "cell_type": "code",
      "execution_count": 15,
      "metadata": {
        "colab": {
          "base_uri": "https://localhost:8080/"
        },
        "id": "NwyJeSXUJ3fx",
        "outputId": "65e7099e-7554-4fad-f58c-dd3766904d92"
      },
      "outputs": [
        {
          "name": "stdout",
          "output_type": "stream",
          "text": [
            "According to the Gordon Growth Model the ERP is 1.78 percent\n"
          ]
        }
      ],
      "source": [
        "gordon = last_dpratio*(1+us_gdp_growth) + us_gdp_growth - tips_yield\n",
        "print(\"According to the Gordon Growth Model the ERP is %.2f percent\" % (gordon*100))"
      ]
    },
    {
      "cell_type": "markdown",
      "metadata": {
        "id": "5D_StH7eJ3fx",
        "tags": []
      },
      "source": [
        "### Question 1.4"
      ]
    },
    {
      "cell_type": "markdown",
      "metadata": {
        "id": "QuE69-m8J3fx"
      },
      "source": [
        "The novel approach in Slide 9 of the case study gives the following formula: $$ ERP = E/P - RealBondYield $$\n"
      ]
    },
    {
      "cell_type": "code",
      "execution_count": 16,
      "metadata": {
        "colab": {
          "base_uri": "https://localhost:8080/"
        },
        "id": "azEo55WhJ3fx",
        "outputId": "e2083d41-8924-4ff7-b4a8-7d585e347ef8"
      },
      "outputs": [
        {
          "name": "stdout",
          "output_type": "stream",
          "text": [
            "according to the novel method, ERP is equal to -1.2290999999999996%\n"
          ]
        }
      ],
      "source": [
        "ep = 3.4/100\n",
        "# print(real_ret.head())\n",
        "# print(real_ret.tail())\n",
        "curr_rby=real_ret.iloc[-1]\n",
        "erp_nov= ep - curr_rby                                         # Fill in the relevant variables\n",
        "print(f'according to the novel method, ERP is equal to {erp_nov*100}%')"
      ]
    },
    {
      "cell_type": "markdown",
      "metadata": {
        "id": "EBdX6pTSFztQ"
      },
      "source": []
    },
    {
      "cell_type": "markdown",
      "metadata": {
        "id": "MIKNIvQhESN8"
      },
      "source": []
    },
    {
      "cell_type": "markdown",
      "metadata": {
        "id": "ofuZQHByEX__"
      },
      "source": [
        "###### According to the Golden Growth Model, Stock Price = Dividend /( Expexted Earnings growth rate - Dividend growth rate )\n",
        "###### Dividend = Dividend Payout Ratio * Expexted Earnings\n",
        "###### P/E Ratio = Dividend Payout Ratio/( Expexted Earnings growth rate - Dividend growth rate )\n",
        "###### Dividend Payout Ratio of two companies is from:\n",
        "###### https://finance.yahoo.com/quote/AAPL/key-statistics/\n",
        "###### https://finance.yahoo.com/quote/WMT/key-statistics/\n",
        "###### Expexted Earnings growth rate of two companies is from:\n",
        "###### https://finance.yahoo.com/quote/AAPL/analysis/\n",
        "###### https://finance.yahoo.com/quote/WMT/analysis/\n",
        "###### Dividend growth rate of two companies is from:\n",
        "###### https://finance.yahoo.com/quote/AAPL/financials/\n",
        "###### https://finance.yahoo.com/quote/WMT/financials/"
      ]
    },
    {
      "cell_type": "code",
      "execution_count": 17,
      "metadata": {
        "colab": {
          "base_uri": "https://localhost:8080/"
        },
        "id": "FLsa8Ac8DeiT",
        "outputId": "c08bdad8-9948-4a6e-c643-92c7c37bf15d"
      },
      "outputs": [
        {
          "name": "stdout",
          "output_type": "stream",
          "text": [
            "0.1352989706561283\n",
            "0.5092689505941136\n"
          ]
        }
      ],
      "source": [
        "dpr_app = 14.76/100\n",
        "dpr_wal = 41.41/100\n",
        "\n",
        "er_app = 11.10/100\n",
        "er_wal = 10.17/100\n",
        "\n",
        "g_app = 96995000*0.14/99803000*0.1476-1\n",
        "g_wal = 15511000*0.41/11680000*0.53-1\n",
        "\n",
        "pe_app = dpr_app/(er_app - g_app)\n",
        "pe_wal = dpr_wal/(er_wal - g_wal)\n",
        "\n",
        "print(pe_app)\n",
        "print(pe_wal)"
      ]
    },
    {
      "cell_type": "markdown",
      "metadata": {
        "id": "skI4OSdyFrS4"
      },
      "source": [
        "Because of the higher Dividend Payout Ratio, higher Dividend growth rate and lower Expexted Earnings growth rate, Walmat's P/E Ratio is higher than Apple.\n"
      ]
    },
    {
      "cell_type": "markdown",
      "metadata": {
        "id": "0zhwCVhVJ3fx",
        "tags": []
      },
      "source": [
        "## Part Two"
      ]
    },
    {
      "cell_type": "markdown",
      "metadata": {
        "id": "wyCo0jSoJ3fx",
        "tags": []
      },
      "source": [
        "### Question 2.1"
      ]
    },
    {
      "cell_type": "markdown",
      "metadata": {
        "id": "4vAg7ZPiJ3fx"
      },
      "source": [
        "a. We need to calculate the annualized sharpe ratio. We first get the mean return over the full sample and multiply by 12 to annualize, then we get the standard deviation over the full sample and multiply by the square root of 12."
      ]
    },
    {
      "cell_type": "code",
      "execution_count": 18,
      "metadata": {
        "colab": {
          "base_uri": "https://localhost:8080/"
        },
        "id": "LbQJPb7CJ3fy",
        "outputId": "db1d90c5-b65a-46dd-8e2c-3702c97bc046"
      },
      "outputs": [
        {
          "name": "stdout",
          "output_type": "stream",
          "text": [
            "The annualized sharpe ratio is 0.30\n"
          ]
        }
      ],
      "source": [
        "erp = returns- rf10\n",
        "vol_ret = np.std(returns)\n",
        "annualized_vol = vol_ret * np.sqrt(12)               # Compute the annnualized volatility of returns\n",
        "\n",
        "mean_erp = np.mean(erp)\n",
        "annualized_erp = 12*mean_erp\n",
        "\n",
        "shratio = annualized_erp / annualized_vol                    # Compute the Sharpe ratio\n",
        "print(\"The annualized sharpe ratio is %.2f\" % shratio)"
      ]
    },
    {
      "cell_type": "markdown",
      "metadata": {
        "id": "mA3A5kQ4J3fy"
      },
      "source": [
        "b. We now need to calculate the 3% VaR"
      ]
    },
    {
      "cell_type": "code",
      "execution_count": 19,
      "metadata": {
        "colab": {
          "base_uri": "https://localhost:8080/"
        },
        "id": "m2uwi-kPJ3fy",
        "outputId": "4dcd4ab2-ba79-4b45-e519-00cee4b74c34"
      },
      "outputs": [
        {
          "name": "stdout",
          "output_type": "stream",
          "text": [
            "The VaR is -8.24 percent\n"
          ]
        }
      ],
      "source": [
        "alpha_var = 0.03\n",
        "returns_sorted = np.sort(returns)\n",
        "\n",
        "VaR = np.quantile(returns_sorted, alpha_var) # quantile interpolates (linear default)\n",
        "print(\"The VaR is %.2f percent\" % (VaR*100))"
      ]
    },
    {
      "cell_type": "markdown",
      "metadata": {
        "id": "ebUQCXCEJ3fy"
      },
      "source": [
        "c. Calculating Expected Shortfall"
      ]
    },
    {
      "cell_type": "code",
      "execution_count": 20,
      "metadata": {
        "colab": {
          "base_uri": "https://localhost:8080/"
        },
        "id": "zl6vwOlBJ3fy",
        "outputId": "976e1c2a-a2d3-4fbc-e558-36b80b108729"
      },
      "outputs": [
        {
          "name": "stdout",
          "output_type": "stream",
          "text": [
            "The Expected Shortfall is 0.57 percent\n"
          ]
        }
      ],
      "source": [
        "alpha_es = 0.03\n",
        "ES = np.mean(returns[returns<-VaR])           # Compute the expected shortfall\n",
        "print(\"The Expected Shortfall is %.2f percent\" % (ES*100))"
      ]
    },
    {
      "cell_type": "markdown",
      "metadata": {
        "id": "a2abYVgwJ3fy"
      },
      "source": [
        "d. Calculating Skew"
      ]
    },
    {
      "cell_type": "code",
      "execution_count": 21,
      "metadata": {
        "colab": {
          "base_uri": "https://localhost:8080/"
        },
        "id": "QCElu1NZJ3fz",
        "outputId": "653eaa36-dd72-4a35-fd30-f4245e3019fc"
      },
      "outputs": [
        {
          "name": "stdout",
          "output_type": "stream",
          "text": [
            "The skewness is -0.42\n"
          ]
        }
      ],
      "source": [
        "sk = scp.stats.skew(returns)\n",
        "print(\"The skewness is %.2f\" % sk)"
      ]
    },
    {
      "cell_type": "markdown",
      "metadata": {
        "id": "io2I8sn8J3fz"
      },
      "source": [
        "e. Calculating Kurtosis"
      ]
    },
    {
      "cell_type": "code",
      "execution_count": 22,
      "metadata": {
        "colab": {
          "base_uri": "https://localhost:8080/"
        },
        "id": "P-KI3B7nJ3fz",
        "outputId": "c9bcd646-b8fc-4af2-bf1b-ffb52f367307"
      },
      "outputs": [
        {
          "name": "stdout",
          "output_type": "stream",
          "text": [
            "The kurtosis is 1.58\n"
          ]
        }
      ],
      "source": [
        "kurt = scp.stats.kurtosis(returns)\n",
        "print(\"The kurtosis is %.2f\" % kurt)"
      ]
    },
    {
      "cell_type": "code",
      "execution_count": 23,
      "metadata": {
        "colab": {
          "base_uri": "https://localhost:8080/",
          "height": 393
        },
        "id": "36QhcWLkmTga",
        "outputId": "369bddf7-813c-4597-bd27-f576be4a2859"
      },
      "outputs": [
        {
          "data": {
            "image/png": "[encoded data removed]",
            "text/plain": [
              "<Figure size 1400x500 with 2 Axes>"
            ]
          },
          "metadata": {},
          "output_type": "display_data"
        }
      ],
      "source": [
        "import seaborn as sns\n",
        "fig, axes = plt.subplots(1, 2, figsize=(14, 5))\n",
        "# Skewness plot\n",
        "sns.histplot(returns, bins=30, kde=True, color=\"blue\", ax=axes[0])\n",
        "axes[0].set_title(\"Stock Returns Distribution and Skewness\")\n",
        "axes[0].set_xlabel(\"Stock Returns\")\n",
        "axes[0].axvline(returns.mean(), color='black', linestyle='--', linewidth=1, label='Mean')\n",
        "axes[0].axvline(returns.mean() + returns.skew()*returns.std(), color='red', linestyle='--', label='Skewness Indicator')\n",
        "axes[0].legend()\n",
        "\n",
        "# Kurtosis plot\n",
        "sns.kdeplot(returns, color=\"blue\", ax=axes[1])\n",
        "x = np.linspace(returns.min(),returns.max(), 100)\n",
        "y = stats.norm.pdf(x,returns.mean(),returns.std())  # normal distribution for comparison\n",
        "axes[1].plot(x, y, 'k--', label='Normal Distribution')\n",
        "axes[1].set_title(\"Stock Returns Kurtosis\")\n",
        "axes[1].set_xlabel(\"Stock Returns\")\n",
        "axes[1].legend([\"Stock Returns KDE\", \"Normal Distribution\"])\n",
        "\n",
        "plt.tight_layout()\n",
        "plt.show()"
      ]
    },
    {
      "cell_type": "markdown",
      "metadata": {
        "id": "gQGHJ_rUJ3fz"
      },
      "source": [
        "f. We now need to calculate Maximum Drawdown. We use the python code used in class to have a user written function."
      ]
    },
    {
      "cell_type": "code",
      "execution_count": 24,
      "metadata": {
        "id": "ir-X2VQ5J3fz"
      },
      "outputs": [],
      "source": [
        "def maxdrawdown(x):\n",
        "    \"\"\"\n",
        "    NumPy analog to corresponding MATLAB Financial Toolbox Function\n",
        "    OUTPUT: start, end, and max drawdown in terms of max percentage drop from a peak\n",
        "    \"\"\"\n",
        "    i = np.argmax(np.maximum.accumulate(x) - x) # end of period\n",
        "    j = np.argmax(x[:i]) # start of the period\n",
        "    percent_change = 100*( x[i] - x[j] ) / x[j]\n",
        "    return j,i,percent_change\n",
        "\n",
        "def datenum(date):\n",
        "    \"\"\"\n",
        "    Converts yyyymmdd dates to ordinal code\n",
        "    \"\"\"\n",
        "    dn = np.zeros(date.shape)\n",
        "    for i in range(len(date)):\n",
        "        dt = str(date[i])\n",
        "        dn[i] = dd.toordinal(dd(int(dt[0:4]),int(dt[4:6]),int(dt[6:8])))\n",
        "    return dn"
      ]
    },
    {
      "cell_type": "code",
      "execution_count": 25,
      "metadata": {
        "id": "hyzwJb8QJ3fz"
      },
      "outputs": [],
      "source": [
        "cumulativeret = np.cumprod(1+returns)\n",
        "\n",
        "MaxDDStartIndex, MaxDDEndIndex, MaxDD = maxdrawdown(cumulativeret)\n",
        "begdate = date[MaxDDStartIndex]\n",
        "enddate = date[MaxDDEndIndex]"
      ]
    },
    {
      "cell_type": "code",
      "execution_count": 26,
      "metadata": {
        "colab": {
          "base_uri": "https://localhost:8080/"
        },
        "id": "B1tCOUCgJ3fz",
        "outputId": "f3e76483-3b09-4f0d-92d5-8bd93b924524"
      },
      "outputs": [
        {
          "name": "stdout",
          "output_type": "stream",
          "text": [
            "The Maximum Drawdown is -2.4e+01%\n"
          ]
        }
      ],
      "source": [
        "print(f'The Maximum Drawdown is {MaxDD:.2}%')"
      ]
    },
    {
      "cell_type": "code",
      "execution_count": 27,
      "metadata": {
        "colab": {
          "base_uri": "https://localhost:8080/"
        },
        "id": "OxWJriZ5J3fz",
        "outputId": "987daa43-c6ad-4a50-c7dd-335f2f6f1a3c"
      },
      "outputs": [
        {
          "name": "stdout",
          "output_type": "stream",
          "text": [
            "Max VC DrawDown from date 12/31/2021 to date 09/30/2022\n"
          ]
        }
      ],
      "source": [
        "print(f'Max VC DrawDown from date {begdate} to date {enddate}')"
      ]
    },
    {
      "cell_type": "markdown",
      "metadata": {
        "id": "UHgakqnCJ3fz"
      },
      "source": [
        "g. Checking normality"
      ]
    },
    {
      "cell_type": "code",
      "execution_count": 28,
      "metadata": {
        "colab": {
          "base_uri": "https://localhost:8080/",
          "height": 517
        },
        "id": "-vraTnJFJ3f0",
        "outputId": "67b49bc2-f7f0-4da8-9fb5-ffa47c95d153"
      },
      "outputs": [
        {
          "data": {
            "text/plain": [
              "(array([  1.,   2.,   5.,  32.,  84., 218., 215.,  75.,  14.,   2.]),\n",
              " array([-0.215795 , -0.1774042, -0.1390134, -0.1006226, -0.0622318,\n",
              "        -0.023841 ,  0.0145498,  0.0529406,  0.0913314,  0.1297222,\n",
              "         0.168113 ]),\n",
              " <BarContainer object of 10 artists>)"
            ]
          },
          "execution_count": 28,
          "metadata": {},
          "output_type": "execute_result"
        },
        {
          "data": {
            "image/png": "[encoded data removed]",
            "text/plain": [
              "<Figure size 640x480 with 1 Axes>"
            ]
          },
          "metadata": {},
          "output_type": "display_data"
        }
      ],
      "source": [
        "plt.hist(returns)"
      ]
    },
    {
      "cell_type": "markdown",
      "metadata": {
        "id": "ZC0wYk88J3f0"
      },
      "source": [
        "Looking at the histogram, skewness and kurtosis, we conclude xxx."
      ]
    },
    {
      "cell_type": "markdown",
      "metadata": {
        "id": "zanAr0TRJ3f0"
      },
      "source": [
        "### Question 2.2"
      ]
    },
    {
      "cell_type": "markdown",
      "metadata": {
        "id": "jpUibeaVJ3f0"
      },
      "source": [
        "We first setup the Sharpe ratio function for the optimization problem."
      ]
    },
    {
      "cell_type": "code",
      "execution_count": 29,
      "metadata": {
        "id": "g78WJ_oNJ3f0"
      },
      "outputs": [],
      "source": [
        "def Shratio(w,mu,Sigma,Rf):\n",
        "    portfolio_return = np.sum(mu * w) - Rf    # portfolio excess return\n",
        "    portfolio_vol    = np.sqrt(np.dot(w.T, np.dot(Sigma,w)))  # portfolio volatility\n",
        "    return portfolio_return / portfolio_vol"
      ]
    },
    {
      "cell_type": "markdown",
      "metadata": {
        "id": "UCZqooeVJ3f0"
      },
      "source": [
        "We now need to set the risk free rate and select the number of assets in our portfolio."
      ]
    },
    {
      "cell_type": "code",
      "execution_count": 30,
      "metadata": {
        "id": "nyq8YqnTJ3f0"
      },
      "outputs": [],
      "source": [
        "Rf = rfrate[len(rfrate)-1]  # risk free rate\n",
        "n = 2                      # number of assets\n",
        "tbonds_ret = df.iloc[:,4]   # tbonds\n",
        "tbills_ret =df.iloc[:,6]    # tbills"
      ]
    },
    {
      "cell_type": "markdown",
      "metadata": {
        "id": "M8mEBiy9J3f0"
      },
      "source": [
        "Combine stock, and bond returns in to a matrix, calculate the mean return of all assets, and the covariance."
      ]
    },
    {
      "cell_type": "code",
      "execution_count": 31,
      "metadata": {
        "id": "PG-f2iKbJ3f0"
      },
      "outputs": [],
      "source": [
        "ret = np.concatenate((np.expand_dims(returns,1), np.expand_dims(tbonds_ret,1)),axis = 1)\n",
        "mu = np.mean(ret, axis = 0)\n",
        "Sigma = np.cov(ret, rowvar = False)"
      ]
    },
    {
      "cell_type": "markdown",
      "metadata": {
        "id": "zSBnXa2dJ3f0"
      },
      "source": [
        "Set the initial weights to be equal"
      ]
    },
    {
      "cell_type": "code",
      "execution_count": 32,
      "metadata": {
        "id": "f7P-shi6J3f0"
      },
      "outputs": [],
      "source": [
        "w0 = np.ones(n)/n"
      ]
    },
    {
      "cell_type": "markdown",
      "metadata": {
        "id": "0AwhBGC7J3f1"
      },
      "source": [
        "Set the constraint condition and solve for the tangency portfolio."
      ]
    },
    {
      "cell_type": "code",
      "execution_count": 33,
      "metadata": {
        "colab": {
          "base_uri": "https://localhost:8080/"
        },
        "id": "x_PPmWO7J3f1",
        "outputId": "9f18ca6d-d2c9-4e18-d2cf-b16b212de5ce"
      },
      "outputs": [
        {
          "name": "stdout",
          "output_type": "stream",
          "text": [
            "optimal weights are [0.52950568 0.47049432] with Sharpe ratio 0.13\n"
          ]
        }
      ],
      "source": [
        "cons = ({'type' : 'eq', 'fun': lambda x: x[0] + x[1] - 1}) # portfolio weights sum to 1\n",
        "\n",
        "# solve for tangency portfolio\n",
        "sol = scp.optimize.minimize(lambda w: -Shratio(w, mu, Sigma, Rf), x0 = w0, constraints = cons)\n",
        "w_uncon = sol.x\n",
        "val = -sol.fun\n",
        "\n",
        "print(f'optimal weights are {w_uncon} with Sharpe ratio {val:.2}')"
      ]
    },
    {
      "cell_type": "markdown",
      "metadata": {
        "id": "2LClR_xbJ3f1"
      },
      "source": [
        "Calculate the mean and variance of the tangency portfolio, and the weight on the portfolio."
      ]
    },
    {
      "cell_type": "code",
      "execution_count": 34,
      "metadata": {
        "id": "Mjcn_PIBJ3f1"
      },
      "outputs": [],
      "source": [
        "#### add risk-free asset\n",
        "gam = 5                                         # gamma: risk aversion coefficient\n",
        "mu_uncon  = w_uncon.T.dot(mu)                   # mean of tangency portfolio\n",
        "var_uncon = np.dot(w_uncon.T, np.dot(Sigma, w_uncon))                                   # variance of tangency portfolio\n",
        "wT_con    = (mu_uncon - Rf) / (gam * var_uncon)                                     # weight to be put in the tangency when maximizing mean variance utility\n",
        "rcon      = wT_con*mu_uncon + (1-wT_con)*Rf\n",
        "\n",
        "# cov_matrix = np.cov(returns.T)\n",
        "# cov_bonds = np.cov(returns.values.flatten(), tbonds_ret.values.flatten())\n",
        "\n",
        "cov_matrix = np.cov(returns.values)  # Get covariance of stock returns\n",
        "cov_bonds = np.cov(returns.values, tbonds_ret.values)  # Calculate covariance between stocks and bonds"
      ]
    },
    {
      "cell_type": "code",
      "execution_count": 35,
      "metadata": {
        "colab": {
          "base_uri": "https://localhost:8080/"
        },
        "id": "1NZpW-j6J3f1",
        "outputId": "b3313efa-e063-4f23-ced5-514db2da8d0f"
      },
      "outputs": [
        {
          "name": "stdout",
          "output_type": "stream",
          "text": [
            "The mean of the tangency portfolio is :0.0078\n",
            "The variance of the tangency portfolio is : 0.00074\n",
            "The weight on the risky portfolio is : 0.96\n",
            "The return of the tangency portfolio is : 0.0076\n",
            "Covariance between stocks and bonds: 0.0001\n"
          ]
        }
      ],
      "source": [
        "print(f'The mean of the tangency portfolio is :{mu_uncon:.2}')\n",
        "print(f'The variance of the tangency portfolio is : {var_uncon:.2}')\n",
        "print(f'The weight on the risky portfolio is : {wT_con:.2}')\n",
        "print(f'The return of the tangency portfolio is : {rcon:.2}')\n",
        "cov_value = cov_bonds[0, 1]  # Covariance value\n",
        "print(f'Covariance between stocks and bonds: {cov_value:.4f}')\n"
      ]
    },
    {
      "cell_type": "markdown",
      "metadata": {
        "id": "UX09-ZgOJ3f1"
      },
      "source": [
        "### Question 2.3"
      ]
    },
    {
      "cell_type": "code",
      "execution_count": 36,
      "metadata": {
        "id": "jfwqid3mJ3f1"
      },
      "outputs": [],
      "source": [
        "delta = tbonds_ret - returns\n",
        "under = sum(delta > 0) / dim"
      ]
    },
    {
      "cell_type": "code",
      "execution_count": 37,
      "metadata": {
        "colab": {
          "base_uri": "https://localhost:8080/"
        },
        "id": "tbv6-rntJ3f1",
        "outputId": "08fb3cb0-ce73-42d5-9069-f727d6c56311"
      },
      "outputs": [
        {
          "name": "stdout",
          "output_type": "stream",
          "text": [
            "a. Stocks underperform bonds approx.43.52% of the time.\n"
          ]
        }
      ],
      "source": [
        "print(f'a. Stocks underperform bonds approx.{under * 100:.2f}% of the time.')"
      ]
    },
    {
      "cell_type": "code",
      "execution_count": 38,
      "metadata": {
        "id": "4f_ZV7nsJ3f1"
      },
      "outputs": [],
      "source": [
        "def CumReturnsAndDeltas(df, num_months, dim):\n",
        "\n",
        "    ret =[]\n",
        "    delta = []\n",
        "\n",
        "    for i in range(num_months, dim):\n",
        "        ret.append(np.array([(df.iloc[i,2] / df.iloc[i-num_months,2]) - 1,          # Stocks\n",
        "                                 ( df.iloc[i,5] / df.iloc[i-num_months,5] ) - 1,    # Bonds\n",
        "                                 ( df.iloc[i,7] / df.iloc[i-num_months,7] ) - 1,    # T-bill\n",
        "                                 ( df.iloc[i,11] / df.iloc[i-num_months,11] ) - 1,  # BTC\n",
        "                                 ( df.iloc[i,14] / df.iloc[i-num_months,14] ) - 1,  # Gold\n",
        "                                 ( df.iloc[i,9] / df.iloc[i-num_months,9] ) - 1 ])) # Inflation\n",
        "        delta.append(ret[i-num_months][1]- ret[i-num_months][0])\n",
        "\n",
        "    ret = np.array(ret)\n",
        "    delta = np.array(delta)\n",
        "    return ret, delta\n",
        "\n"
      ]
    },
    {
      "cell_type": "code",
      "execution_count": 39,
      "metadata": {
        "id": "yzrQ_PiWJ3f1"
      },
      "outputs": [],
      "source": [
        "ret_cumulative_1yr, delta_1yr = CumReturnsAndDeltas(df, 12, dim)\n",
        "delt_1yr = sum(delta_1yr > 0) / delta_1yr.shape[0]\n",
        "\n",
        "ret_cumulative_5yr, delta_5yr = CumReturnsAndDeltas(df, 60, dim)\n",
        "delt_5yr = sum(delta_5yr > 0) / delta_5yr.shape[0]\n",
        "ret_cumulative_10yr, delta_10yr = CumReturnsAndDeltas(df, 120, dim)\n",
        "delt_10yr = sum(delta_10yr > 0) / delta_10yr.shape[0]"
      ]
    },
    {
      "cell_type": "code",
      "execution_count": 40,
      "metadata": {
        "colab": {
          "base_uri": "https://localhost:8080/"
        },
        "id": "JjE0etO1J3f1",
        "outputId": "70c1fb52-a495-4223-f1d5-1434bc103879"
      },
      "outputs": [
        {
          "name": "stdout",
          "output_type": "stream",
          "text": [
            "b.i At the 1 year horizon stocks underperformed bonds 41.35% of the time.\n"
          ]
        }
      ],
      "source": [
        "print( f'b.i At the 1 year horizon stocks underperformed bonds {delt_1yr*100:.4}% of the time.')"
      ]
    },
    {
      "cell_type": "code",
      "execution_count": 41,
      "metadata": {
        "colab": {
          "base_uri": "https://localhost:8080/"
        },
        "id": "qwJ13g0oJ3f2",
        "outputId": "f3b863c9-f3bf-41e3-8357-f36f52a2542c"
      },
      "outputs": [
        {
          "name": "stdout",
          "output_type": "stream",
          "text": [
            "b.ii At the 5 year horizon stocks underperformed bonds 45.92% of the time.\n"
          ]
        }
      ],
      "source": [
        "print(f'b.ii At the 5 year horizon stocks underperformed bonds {delt_5yr*100:.4}% of the time.')"
      ]
    },
    {
      "cell_type": "code",
      "execution_count": 42,
      "metadata": {
        "colab": {
          "base_uri": "https://localhost:8080/"
        },
        "id": "USWej32IJ3f2",
        "outputId": "d7c545ad-555a-40aa-9a9e-f7735c378fad"
      },
      "outputs": [
        {
          "name": "stdout",
          "output_type": "stream",
          "text": [
            "b.iii At the 10 year horizon stocks underperformed bonds 44.89% of the time.\n"
          ]
        }
      ],
      "source": [
        "print(f'b.iii At the 10 year horizon stocks underperformed bonds {delt_10yr*100:.4}% of the time.')"
      ]
    },
    {
      "cell_type": "markdown",
      "metadata": {
        "id": "3av0U1Y5J3f2"
      },
      "source": [
        "## PART 3"
      ]
    },
    {
      "cell_type": "markdown",
      "metadata": {
        "id": "kCqrkLTP2m5H"
      },
      "source": [
        "Try it yourself (Its very similar to above.)"
      ]
    },
    {
      "cell_type": "code",
      "execution_count": 43,
      "metadata": {
        "id": "9epAb64XiDMZ"
      },
      "outputs": [],
      "source": [
        "# #Obtain relevant data\n",
        "# us_stocks = df.iloc[:,2]\n",
        "# tbills = df.iloc[:,7]\n",
        "# gold = df.iloc[:,14]\n",
        "# bitcoin = df.iloc[:,10]\n",
        "# inflation = df.iloc[:,8]"
      ]
    },
    {
      "cell_type": "code",
      "execution_count": 44,
      "metadata": {
        "id": "bZcmMkeFnaGs"
      },
      "outputs": [],
      "source": [
        "#Obtain relevant data\n",
        "us_stocks = df.iloc[612:,2]\n",
        "tbills = df.iloc[612:,7]\n",
        "gold = df.iloc[612:,14]\n",
        "bitcoin = df.iloc[612:,10]\n",
        "inflation = df.iloc[612:,8]"
      ]
    },
    {
      "cell_type": "code",
      "execution_count": 45,
      "metadata": {
        "id": "2rZ5XIsZkSeg"
      },
      "outputs": [],
      "source": [
        "# print(us_stocks.head())\n",
        "# print(tbills.head())\n",
        "# print(gold.head())\n",
        "# print(bitcoin.head())\n",
        "# print(inflation.head())"
      ]
    },
    {
      "cell_type": "code",
      "execution_count": 46,
      "metadata": {
        "id": "gWmNinJcjCb_"
      },
      "outputs": [],
      "source": [
        "def log_returns(series, horizon):\n",
        "    # Shift the series by the given horizon and calculate the percentage change\n",
        "    shifted_series = series.shift(-horizon)\n",
        "\n",
        "    # Replace zeros or negative values with NaN to avoid log(0) or log(negative)\n",
        "    valid_idx = (series > 0) & (shifted_series > 0)\n",
        "\n",
        "    # Calculate log returns only where the values are valid\n",
        "    log_ret = np.log(shifted_series[valid_idx] / series[valid_idx])\n",
        "\n",
        "    return log_ret\n",
        "\n",
        "horizons = [3, 12, 24]\n",
        "log_returns_data = {}\n",
        "\n",
        "for h in horizons:\n",
        "    log_returns_data[h] = {\n",
        "        'us_stocks': log_returns(us_stocks, h),\n",
        "        'tbills': log_returns(tbills, h),\n",
        "        'gold': log_returns(gold, h),\n",
        "        'bitcoin': log_returns(bitcoin, h),\n",
        "        'inflation': log_returns(inflation, h)\n",
        "    }"
      ]
    },
    {
      "cell_type": "code",
      "execution_count": 47,
      "metadata": {
        "id": "Bu2eZocpjtIG"
      },
      "outputs": [],
      "source": [
        "correlations = {}\n",
        "for h in horizons:\n",
        "    inflation_returns = log_returns_data[h]['inflation']\n",
        "    correlations[h] = {\n",
        "        'US Stocks': log_returns_data[h]['us_stocks'].corr(inflation_returns),\n",
        "        'T-Bills': log_returns_data[h]['tbills'].corr(inflation_returns),\n",
        "        'Gold': log_returns_data[h]['gold'].corr(inflation_returns),\n",
        "        'Bitcoin': log_returns_data[h]['bitcoin'].corr(inflation_returns)\n",
        "    }"
      ]
    },
    {
      "cell_type": "code",
      "execution_count": 48,
      "metadata": {
        "colab": {
          "base_uri": "https://localhost:8080/"
        },
        "id": "bWcXbhz3jvMS",
        "outputId": "72887f33-7b1f-4d77-f1b1-6ea47ccd0c49"
      },
      "outputs": [
        {
          "name": "stdout",
          "output_type": "stream",
          "text": [
            "Correlation between assets and inflation over a 3-month horizon:\n",
            "US Stocks: 0.0316\n",
            "T-Bills: -0.1894\n",
            "Gold: 0.3742\n",
            "Bitcoin: -0.0599\n",
            "Correlation between assets and inflation over a 12-month horizon:\n",
            "US Stocks: 0.2705\n",
            "T-Bills: -0.5888\n",
            "Gold: 0.1191\n",
            "Bitcoin: 0.0855\n",
            "Correlation between assets and inflation over a 24-month horizon:\n",
            "US Stocks: 0.2196\n",
            "T-Bills: -0.0964\n",
            "Gold: -0.2757\n",
            "Bitcoin: -0.3486\n"
          ]
        }
      ],
      "source": [
        "for h in horizons:\n",
        "    print(f\"Correlation between assets and inflation over a {h}-month horizon:\")\n",
        "    for asset, corr_value in correlations[h].items():\n",
        "        print(f\"{asset}: {corr_value:.4f}\")"
      ]
    },
    {
      "cell_type": "code",
      "execution_count": 49,
      "metadata": {
        "id": "OEBuhcVGnTxO"
      },
      "outputs": [],
      "source": [
        "horizons = [3, 12, 24]\n",
        "ols_results = {}\n",
        "for h in horizons:\n",
        "  for asset in ['us_stocks', 'tbills', 'gold', 'bitcoin']:\n",
        "        y = log_returns_data[h]['inflation']\n",
        "        X = sm.add_constant(log_returns_data[h][asset])\n",
        "\n",
        "        # Align indices\n",
        "        combined_data = pd.concat([y, X], axis=1).dropna()\n",
        "        y_aligned = combined_data[y.name]\n",
        "        X_aligned = combined_data.drop(columns=y.name)\n",
        "\n",
        "        # Ensure there's no NaN values after alignment\n",
        "        if not X_aligned.empty and not y_aligned.empty:\n",
        "            model = sm.OLS(y_aligned, X_aligned).fit()\n",
        "\n",
        "            # Store results: coefficients and R-squared using .iloc for index access\n",
        "            ols_results[(h, asset)] = {\n",
        "                'beta': model.params.iloc[1],  # Coefficient for the asset\n",
        "                't_stat': model.tvalues.iloc[1],  # T-statistic for the asset\n",
        "                'r_squared': model.rsquared  # R-squared value\n",
        "            }"
      ]
    },
    {
      "cell_type": "code",
      "execution_count": 50,
      "metadata": {
        "colab": {
          "base_uri": "https://localhost:8080/"
        },
        "id": "_T3fu7Ppvp7O",
        "outputId": "ffa82fc5-9be2-44c2-ad8e-0bbeab31708f"
      },
      "outputs": [
        {
          "name": "stdout",
          "output_type": "stream",
          "text": [
            "\n",
            "OLS Results for us_stocks over a 3-month horizon:\n",
            "  Beta: 0.3396, T-Stat: 0.1450, R^2: 0.0010\n",
            "\n",
            "OLS Results for tbills over a 3-month horizon:\n",
            "  Beta: -28.7651, T-Stat: -0.8840, R^2: 0.0359\n",
            "\n",
            "OLS Results for gold over a 3-month horizon:\n",
            "  Beta: 5.0785, T-Stat: 1.8493, R^2: 0.1400\n",
            "\n",
            "OLS Results for bitcoin over a 3-month horizon:\n",
            "  Beta: -0.1521, T-Stat: -0.2751, R^2: 0.0036\n",
            "\n",
            "OLS Results for us_stocks over a 12-month horizon:\n",
            "  Beta: 1.5270, T-Stat: 1.0130, R^2: 0.0732\n",
            "\n",
            "OLS Results for tbills over a 12-month horizon:\n",
            "  Beta: -29.6209, T-Stat: -2.6263, R^2: 0.3466\n",
            "\n",
            "OLS Results for gold over a 12-month horizon:\n",
            "  Beta: 1.3493, T-Stat: 0.4327, R^2: 0.0142\n",
            "\n",
            "OLS Results for bitcoin over a 12-month horizon:\n",
            "  Beta: 0.1532, T-Stat: 0.3093, R^2: 0.0073\n",
            "\n",
            "OLS Results for us_stocks over a 24-month horizon:\n",
            "  Beta: 4.7102, T-Stat: 0.5955, R^2: 0.0482\n",
            "\n",
            "OLS Results for tbills over a 24-month horizon:\n",
            "  Beta: -6.4165, T-Stat: -0.2562, R^2: 0.0093\n",
            "\n",
            "OLS Results for gold over a 24-month horizon:\n",
            "  Beta: -5.3679, T-Stat: -0.7588, R^2: 0.0760\n",
            "\n",
            "OLS Results for bitcoin over a 24-month horizon:\n",
            "  Beta: -1.2318, T-Stat: -0.9840, R^2: 0.1215\n"
          ]
        }
      ],
      "source": [
        "for (h, asset), metrics in ols_results.items():\n",
        "  print(f\"\\nOLS Results for {asset} over a {h}-month horizon:\")\n",
        "  print(f\"  Beta: {metrics['beta']:.4f}, T-Stat: {metrics['t_stat']:.4f}, R^2: {metrics['r_squared']:.4f}\")"
      ]
    }
  ],
  "metadata": {
    "colab": {
      "provenance": []
    },
    "kernelspec": {
      "display_name": "Python 3",
      "language": "python",
      "name": "python3"
    },
    "language_info": {
      "codemirror_mode": {
        "name": "ipython",
        "version": 3
      },
      "file_extension": ".py",
      "mimetype": "text/x-python",
      "name": "python",
      "nbconvert_exporter": "python",
      "pygments_lexer": "ipython3",
      "version": "3.12.4"
    }
  },
  "nbformat": 4,
  "nbformat_minor": 0
}
